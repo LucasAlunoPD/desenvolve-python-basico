{
 "cells": [
  {
   "cell_type": "markdown",
   "metadata": {
    "id": "1pCTdOHonv5f"
   },
   "source": [
    "# Módulo 2\n",
    "\n",
    "## 2.3 Instruções e Expressões\n",
    "\n",
    "### Q1\n",
    "\n",
    "Faça um programa que armazene o valor de 20 reais de salário por hora de um trabalhador, e o número de 40 horas trabalhadas na semana. Com essas informações, calcule e imprima:\n",
    "- Salário semanal bruto\n",
    "- Valor descontado por semana INSS (10% do bruto)\n",
    "- Valor descontado por semana pelo sindicato (5% do bruto)\n",
    "- Salário semanal líquido (Bruto - Descontos)"
   ]
  },
  {
   "cell_type": "code",
   "execution_count": null,
   "metadata": {
    "id": "hVbX0I97nj6M"
   },
   "outputs": [],
   "source": [
    "## Escreva e execute seu código aqui\n",
    "\n",
    "Salariohoras= 20\n",
    "horas=40\n",
    "SSB= Salariohoras * horas\n",
    "INSS= SSB*0.10\n",
    "S= SSB* 0.05\n",
    "SSL= SSB-INSS-S\n",
    "\n",
    "print(f\"O salário semanal bruto é de {SSB}\")\n",
    "print(f\"O desconto do INSS fica de {INSS}\" ) \n",
    "print(f\"O desconto do SINDICATO fica de {S}\" ) \n",
    "print(f\"O salário semanal liquido é de {SSL}\" ) \n"
   ]
  },
  {
   "cell_type": "markdown",
   "metadata": {
    "id": "pIxKX9J2oGZ1"
   },
   "source": [
    "### Q2\n",
    "\n",
    "Altere o programa anterior para a partir dos valores de horas trabalhadas por semana e salário por hora, calcular **em somente duas instruções**:\n",
    "- Salário semanal bruto\n",
    "- Salário semanal líquido com todos os descontos. Para a segunda instrução, realize todos os cálculos aritméticos em uma expressão composta.\n"
   ]
  },
  {
   "cell_type": "code",
   "execution_count": null,
   "metadata": {
    "id": "pAHw9Xf9oGoi"
   },
   "outputs": [],
   "source": [
    "## Escreva e execute seu código aqui\n",
    "\n",
    "salario_hora = 20   \n",
    "horas_trabalhadas = 40  \n",
    "\n",
    "salario_bruto = salario_hora * horas_trabalhadas \n",
    "salario_liquido = salario_bruto - (salario_bruto * 0.10 + salario_bruto * 0.05) \n",
    "\n",
    "print(f\"Salário semanal bruto: R$ {salario_bruto:}\")\n",
    "print(f\"Salário semanal líquido: R$ {salario_liquido:}\")"
   ]
  },
  {
   "cell_type": "markdown",
   "metadata": {
    "id": "m8tlHRuWpBOB"
   },
   "source": [
    "### Q3\n",
    "\n",
    "Você está desenvolvendo um software de conversão de moeda e precisa calcular o valor equivalente em yuan chinês a partir de uma quantia em real. A taxa de câmbio é de 0.69 BRL (real) para 1 CNY (yuan). Escreva um programa que define em uma variável uma quantia em reais (BRL) e calcula o valor equivalente em yuan (CNY). Imprima o resultado."
   ]
  },
  {
   "cell_type": "code",
   "execution_count": null,
   "metadata": {
    "id": "2bPw7uF6oeL9"
   },
   "outputs": [],
   "source": [
    "## Escreva e execute seu código aqui\n",
    "\n",
    "\n",
    "taxa_cambio = 0.69  \n",
    "\n",
    "\n",
    "reais = 100\n",
    "\n",
    "\n",
    "yuan = reais / taxa_cambio\n",
    "\n",
    "print(f\"Reais={reais}\")\n",
    "print(f\"Yuan={yuan}\")\n",
    "      "
   ]
  },
  {
   "cell_type": "markdown",
   "metadata": {
    "id": "-Na3ltDCp74A"
   },
   "source": [
    "### Q4\n",
    "\n",
    "Você é um treinador de corrida e deseja calcular a velocidade média que um atleta precisa manter para completar a Maratona Internacional de São Silvestre, que tem uma distância total de 42.195 km. A fórmula para calcular a velocidade média ($v\\_media$) é dada por $v\\_media = \\frac{distancia}{tempo}$ . Escreva um programa em Python para calcular a velocidade média necessária para completar a maratona em 3 horas.\n",
    "\n",
    "**Calcule e imprima o resultado em metros/segundo**, ou seja, converta a distância de quilômetros para metros ($metro = \\frac{km}{1000}$) e a velocidade de horas para segundos $(segundo = \\frac{hora}{3600})$."
   ]
  },
  {
   "cell_type": "code",
   "execution_count": null,
   "metadata": {
    "id": "Bn6l8kcSrE4L"
   },
   "outputs": [],
   "source": [
    "## Escreva e execute seu código aqui\n",
    "\n",
    "distancia_km = 42.195  \n",
    "tempo_horas = 3  \n",
    "\n",
    "\n",
    "distancia_metros = distancia_km * 1000 \n",
    "tempo_segundos = tempo_horas * 3600  \n",
    "\n",
    "\n",
    "velocidade_media = distancia_metros / tempo_segundos  \n",
    "\n",
    "\n",
    "print(f\"Distância da maratona: {distancia_metros} metros\")\n",
    "print(f\"Tempo para completar: {tempo_segundos} segundos\")\n",
    "print(f\"Velocidade média necessária: {velocidade_media} m/s\")"
   ]
  }
 ],
 "metadata": {
  "colab": {
   "provenance": []
  },
  "kernelspec": {
   "display_name": "Python 3",
   "name": "python3"
  },
  "language_info": {
   "name": "python",
   "version": "3.11.6"
  }
 },
 "nbformat": 4,
 "nbformat_minor": 0
}
