# Projeto Desenvolve
# Programação Intermediária com Python
# Profa. Camila Laranjeira (mila@projetodesenvolve.com.br)
#
# 1.1 - Recursividade
#
# Resolução de todas as questões (Q1 a Q5 + Extra)

# ----------------------------
# Q1 - Intervalo crescente
# ----------------------------
def intervalo(a, b):
    if a > b:
        print("Valores invalidos")
    else:
        def rec(i, b):
            if i > b:
                return
            print(i, end=" ")
            rec(i + 1, b)
        rec(a, b)

print("Q1 Testes:")
intervalo(1, 10)
print()
intervalo(-5, -1)
print()
intervalo(5, -5)
print()
intervalo(17, 20)
print("\n" + "-"*40)


# ----------------------------
# Q2 - Intervalo decrescente (alterando apenas uma linha)
# ----------------------------
def intervalo_invertido(a, b):
    if a > b:
        print("Valores invalidos")
    else:
        def rec(i, b):
            if i > b:
                return
            rec(i + 1, b)          # << Alterado: chamada antes do print
            print(i, end=" ")
        rec(a, b)

print("Q2 Testes:")
intervalo_invertido(1, 10)
print()
intervalo_invertido(-5, -1)
print()
intervalo_invertido(5, -5)
print()
intervalo_invertido(17, 20)
print("\n" + "-"*40)


# ----------------------------
# Q3 - Soma de 1 até n
# ----------------------------
def soma_n(n):
    if n == 1:
        return 1
    return n + soma_n(n - 1)

print("Q3 Testes:")
print(soma_n(5))   # 15
print(soma_n(13))  # 78
print("-"*40)


# ----------------------------
# Q4 - Número primo recursivo
# ----------------------------
def eh_primo(n, divisor=None):
    if n < 2:
        return False
    if divisor is None:
        divisor = n - 1
    if divisor == 1:
        return True
    if n % divisor == 0:
        return False
    return eh_primo(n, divisor - 1)

print("Q4 Testes:")
print(2, eh_primo(2))   # True
print(17, eh_primo(17)) # True
print(18, eh_primo(18)) # False
print(29, eh_primo(29)) # True
print("-"*40)


# ----------------------------
# Q5 - Decimal para binário
# ----------------------------
def decimal_para_binario(n):
    if n == 0:
        return "0"
    if n == 1:
        return "1"
    return decimal_para_binario(n // 2) + str(n % 2)

print("Q5 Testes:")
print(13, decimal_para_binario(13))   # 1101
print(2, decimal_para_binario(2))     # 10
print(8, decimal_para_binario(8))     # 1000
print("-"*40)


# ----------------------------
# Extra - Pré-ordem em árvore binária
# ----------------------------
RAIZ_IDX, ESQ_IDX, DIR_IDX = 0, 1, 2

arvore = [
    4,
    [2, [1, None, None], [3, None, None]],
    [5, None, None]
]

def pre_ordem(no):
    if no is None:
        return []
    raiz = no[RAIZ_IDX]
    esquerda = pre_ordem(no[ESQ_IDX]) if no[ESQ_IDX] else []
    direita = pre_ordem(no[DIR_IDX]) if no[DIR_IDX] else []
    return [raiz] + esquerda + direita

print("Extra Teste (pré-ordem):")
print(pre_ordem(arvore))  # [4, 2, 1, 3, 5]

